{
 "cells": [
  {
   "cell_type": "code",
   "execution_count": 2,
   "metadata": {
    "collapsed": true
   },
   "outputs": [],
   "source": [
    "### This is supposed to be a demo for how to do inference using the model and a new line of text\n"
   ]
  },
  {
   "cell_type": "code",
   "execution_count": 1,
   "metadata": {
    "collapsed": true
   },
   "outputs": [],
   "source": [
    "#General Imports\n",
    "import torch\n",
    "import torch.nn  as nn\n",
    "import torch.optim as optim\n",
    "import numpy as np\n",
    "from torch.utils.data import DataLoader\n",
    "import random\n",
    "import matplotlib.pyplot as plt\n",
    "import ctcdecode\n",
    "\n",
    "import matplotlib.pyplot as plt\n",
    "from tensorboardX import SummaryWriter\n",
    "\n",
    "#Load fake, non handwritten generator \n",
    "from fake_texts.pytorch_dataset_fake_2 import Dataset\n",
    "\n",
    "#Import the loss from baidu \n",
    "from torch_baidu_ctc import CTCLoss\n",
    "\n",
    "#Import the model \n",
    "from fully_conv_model import cnn_attention_ocr\n",
    "\n",
    "#Helper to count params\n",
    "def count_parameters(model):\n",
    "    return sum(p.numel() for p in model.parameters() if p.requires_grad)\n",
    "from evaluation import wer_eval,preds_to_integer,show,my_collate,AverageMeter"
   ]
  },
  {
   "cell_type": "code",
   "execution_count": 2,
   "metadata": {
    "collapsed": true
   },
   "outputs": [],
   "source": [
    "###Set up model. \n",
    "cnn=cnn_attention_ocr(model_dim=128,nclasses=67,n_layers=8)\n",
    "cnn=cnn.eval().cpu()#.cuda()\n",
    "cnn.load_state_dict(torch.load(\"400ksteps_augment_new_gen_e15.pt\"))\n",
    "#count_parameters(cnn)"
   ]
  },
  {
   "cell_type": "code",
   "execution_count": 3,
   "metadata": {
    "collapsed": true
   },
   "outputs": [],
   "source": [
    "from PIL import Image\n",
    "import numpy as np\n",
    "from glob import glob"
   ]
  },
  {
   "cell_type": "code",
   "execution_count": 4,
   "metadata": {
    "collapsed": true
   },
   "outputs": [],
   "source": [
    "input_folder=\"/home/leander/AI/data/test_seg/\""
   ]
  },
  {
   "cell_type": "code",
   "execution_count": 5,
   "metadata": {
    "collapsed": true
   },
   "outputs": [],
   "source": [
    "files=glob(input_folder+\"*.png\")"
   ]
  },
  {
   "cell_type": "code",
   "execution_count": 6,
   "metadata": {
    "collapsed": true
   },
   "outputs": [],
   "source": [
    "from skimage.color import gray2rgb\n",
    "from skimage.transform import resize\n",
    "import cv2\n"
   ]
  },
  {
   "cell_type": "code",
   "execution_count": 7,
   "metadata": {
    "collapsed": true
   },
   "outputs": [],
   "source": [
    "imglist=[]\n",
    "for j in files:\n",
    "    img = Image.open(j).convert('L')\n",
    "    img=cv2.cvtColor(np.array(img),cv2.COLOR_GRAY2RGB)\n",
    "    #img=np.array(img)\n",
    "    #img=img.astype(float)\n",
    "    img=img/255\n",
    "    resize_shape=(32,int(32*img.shape[1]/img.shape[0]))\n",
    "    img = resize(img,resize_shape,mode=\"constant\")\n",
    "    img=np.expand_dims(img,0)\n",
    "    img=torch.tensor(img).cuda().float().permute((0,3,1,2))\n",
    "    \n",
    "    imglist.append(img)"
   ]
  },
  {
   "cell_type": "code",
   "execution_count": 7,
   "metadata": {
    "collapsed": true
   },
   "outputs": [],
   "source": [
    "img = Image.open(\"/home/leander/Pictures/test.png\").convert('L')\n",
    "img=cv2.cvtColor(np.array(img),cv2.COLOR_GRAY2RGB)\n",
    "#img=np.array(img)\n",
    "#img=img.astype(float)\n",
    "img=img/255\n",
    "resize_shape=(32,int(32*img.shape[1]/img.shape[0]))\n",
    "img = resize(img,resize_shape,mode=\"constant\")\n",
    "img=np.expand_dims(img,0)\n",
    "img=torch.tensor(img).cuda().float().permute((0,3,1,2))\n",
    "\n",
    "#imglist.append(img)"
   ]
  },
  {
   "cell_type": "code",
   "execution_count": 8,
   "metadata": {
    "collapsed": true
   },
   "outputs": [],
   "source": [
    "batch_size=1\n",
    "width=-1\n",
    "alignment=1\n",
    "\n",
    "ds=Dataset()\n",
    "#\"\".join("
   ]
  },
  {
   "cell_type": "code",
   "execution_count": 9,
   "metadata": {},
   "outputs": [
    {
     "data": {
      "text/plain": [
       "67"
      ]
     },
     "execution_count": 9,
     "metadata": {},
     "output_type": "execute_result"
    }
   ],
   "source": [
    "len(list(ds.decode_dict.values()))"
   ]
  },
  {
   "cell_type": "code",
   "execution_count": 10,
   "metadata": {
    "collapsed": true
   },
   "outputs": [],
   "source": [
    "decoder=ctcdecode.CTCBeamDecoder(log_probs_input=False,labels=list(ds.decode_dict.values()))"
   ]
  },
  {
   "cell_type": "code",
   "execution_count": 11,
   "metadata": {
    "collapsed": true
   },
   "outputs": [],
   "source": [
    "example_image=img"
   ]
  },
  {
   "cell_type": "code",
   "execution_count": 12,
   "metadata": {
    "collapsed": true
   },
   "outputs": [],
   "source": [
    "log_probs=cnn(example_image.cpu())#.permute((2,0,1))"
   ]
  },
  {
   "cell_type": "code",
   "execution_count": 13,
   "metadata": {},
   "outputs": [],
   "source": [
    "log_probs=log_probs.permute((0,2,1))"
   ]
  },
  {
   "cell_type": "code",
   "execution_count": 14,
   "metadata": {},
   "outputs": [
    {
     "data": {
      "text/plain": [
       "torch.Size([1, 161, 68])"
      ]
     },
     "execution_count": 14,
     "metadata": {},
     "output_type": "execute_result"
    }
   ],
   "source": [
    "log_probs.shape"
   ]
  },
  {
   "cell_type": "code",
   "execution_count": 15,
   "metadata": {
    "collapsed": true
   },
   "outputs": [],
   "source": [
    "log_probs=log_probs[:,:,0:67]"
   ]
  },
  {
   "cell_type": "code",
   "execution_count": 16,
   "metadata": {},
   "outputs": [],
   "source": [
    "log_probs=log_probs[0,:,:]"
   ]
  },
  {
   "cell_type": "code",
   "execution_count": 22,
   "metadata": {
    "collapsed": true
   },
   "outputs": [],
   "source": [
    "le=np.array(161)"
   ]
  },
  {
   "cell_type": "code",
   "execution_count": 25,
   "metadata": {
    "collapsed": true
   },
   "outputs": [],
   "source": [
    "le= np.reshape(le,newshape=(1,1))"
   ]
  },
  {
   "cell_type": "code",
   "execution_count": 27,
   "metadata": {},
   "outputs": [
    {
     "data": {
      "text/plain": [
       "array([[161]])"
      ]
     },
     "execution_count": 27,
     "metadata": {},
     "output_type": "execute_result"
    }
   ],
   "source": [
    "le"
   ]
  },
  {
   "cell_type": "code",
   "execution_count": 21,
   "metadata": {},
   "outputs": [
    {
     "data": {
      "text/plain": [
       "tensor(161)"
      ]
     },
     "execution_count": 21,
     "metadata": {},
     "output_type": "execute_result"
    }
   ],
   "source": [
    "torch.tensor()"
   ]
  },
  {
   "cell_type": "code",
   "execution_count": 144,
   "metadata": {
    "collapsed": true
   },
   "outputs": [],
   "source": [
    "#example_image=imglist[1]"
   ]
  },
  {
   "cell_type": "code",
   "execution_count": 25,
   "metadata": {
    "collapsed": true
   },
   "outputs": [],
   "source": []
  },
  {
   "cell_type": "code",
   "execution_count": 23,
   "metadata": {},
   "outputs": [
    {
     "data": {
      "image/png": "[encoded data removed]",
      "text/plain": [
       "<matplotlib.figure.Figure at 0x7f9e96570898>"
      ]
     },
     "metadata": {},
     "output_type": "display_data"
    }
   ],
   "source": [
    "#example_image=example_image[:,:,:,0:750]\n",
    "show(example_image.detach().cpu()[0,:,:,:])\n",
    "plt.show()"
   ]
  },
  {
   "cell_type": "code",
   "execution_count": 24,
   "metadata": {},
   "outputs": [
    {
     "data": {
      "text/plain": [
       "tensor([[[[0.6909, 0.6859, 0.6822,  ..., 0.7256, 0.7245, 0.7374],\n",
       "          [0.6953, 0.6832, 0.6798,  ..., 0.7207, 0.7256, 0.7333],\n",
       "          [0.6886, 0.6941, 0.6902,  ..., 0.7237, 0.7303, 0.7283],\n",
       "          ...,\n",
       "          [0.7099, 0.7100, 0.7029,  ..., 0.8173, 0.8179, 0.8163],\n",
       "          [0.6972, 0.7024, 0.7041,  ..., 0.8142, 0.8148, 0.8167],\n",
       "          [0.7022, 0.7053, 0.7020,  ..., 0.8083, 0.8131, 0.8164]],\n",
       "\n",
       "         [[0.6909, 0.6859, 0.6822,  ..., 0.7256, 0.7245, 0.7374],\n",
       "          [0.6953, 0.6832, 0.6798,  ..., 0.7207, 0.7256, 0.7333],\n",
       "          [0.6886, 0.6941, 0.6902,  ..., 0.7237, 0.7303, 0.7283],\n",
       "          ...,\n",
       "          [0.7099, 0.7100, 0.7029,  ..., 0.8173, 0.8179, 0.8163],\n",
       "          [0.6972, 0.7024, 0.7041,  ..., 0.8142, 0.8148, 0.8167],\n",
       "          [0.7022, 0.7053, 0.7020,  ..., 0.8083, 0.8131, 0.8164]],\n",
       "\n",
       "         [[0.6909, 0.6859, 0.6822,  ..., 0.7256, 0.7245, 0.7374],\n",
       "          [0.6953, 0.6832, 0.6798,  ..., 0.7207, 0.7256, 0.7333],\n",
       "          [0.6886, 0.6941, 0.6902,  ..., 0.7237, 0.7303, 0.7283],\n",
       "          ...,\n",
       "          [0.7099, 0.7100, 0.7029,  ..., 0.8173, 0.8179, 0.8163],\n",
       "          [0.6972, 0.7024, 0.7041,  ..., 0.8142, 0.8148, 0.8167],\n",
       "          [0.7022, 0.7053, 0.7020,  ..., 0.8083, 0.8131, 0.8164]]]])"
      ]
     },
     "execution_count": 24,
     "metadata": {},
     "output_type": "execute_result"
    }
   ],
   "source": [
    "example_image.cpu()"
   ]
  },
  {
   "cell_type": "code",
   "execution_count": 25,
   "metadata": {},
   "outputs": [
    {
     "data": {
      "text/plain": [
       "'fotq~ma9l }ete 8 ( ) x5 ( ) 2,5 ( )'"
      ]
     },
     "execution_count": 25,
     "metadata": {},
     "output_type": "execute_result"
    }
   ],
   "source": [
    "log_probs = cnn(example_image.cpu()).permute((2,0,1))[:,0,:]\n",
    "#preds_to_integer(log_probs)\n",
    "\"\".join([ds.decode_dict[j] for j in preds_to_integer(log_probs)])"
   ]
  },
  {
   "cell_type": "code",
   "execution_count": 57,
   "metadata": {},
   "outputs": [
    {
     "data": {
      "text/plain": [
       "'06/05/2017 ( upon feceipt )'"
      ]
     },
     "execution_count": 57,
     "metadata": {},
     "output_type": "execute_result"
    }
   ],
   "source": [
    "log_probs = cnn(example_image.cpu()).permute((2,0,1))[:,0,:]\n",
    "#preds_to_integer(log_probs)\n",
    "\"\".join([ds.decode_dict[j] for j in preds_to_integer(log_probs)])"
   ]
  },
  {
   "cell_type": "code",
   "execution_count": 59,
   "metadata": {},
   "outputs": [
    {
     "data": {
      "text/plain": [
       "' cu gpa,,  3.s5 cum tota|s 37 0o 37 0 ) 37 q0 924'"
      ]
     },
     "execution_count": 59,
     "metadata": {},
     "output_type": "execute_result"
    }
   ],
   "source": [
    "log_probs = cnn(example_image.cpu()).permute((2,0,1))[:,0,:]\n",
    "#preds_to_integer(log_probs)\n",
    "\"\".join([ds.decode_dict[j] for j in preds_to_integer(log_probs)])"
   ]
  },
  {
   "cell_type": "code",
   "execution_count": 87,
   "metadata": {},
   "outputs": [
    {
     "data": {
      "image/png": "[encoded data removed]",
      "text/plain": [
       "<matplotlib.figure.Figure at 0x7f7be6b12a20>"
      ]
     },
     "metadata": {},
     "output_type": "display_data"
    }
   ],
   "source": [
    "show(example_image.detach().cpu()[0,:,:,:])\n",
    "plt.show()"
   ]
  },
  {
   "cell_type": "code",
   "execution_count": 81,
   "metadata": {},
   "outputs": [
    {
     "data": {
      "text/plain": [
       "'J, TN7b,q'"
      ]
     },
     "execution_count": 81,
     "metadata": {},
     "output_type": "execute_result"
    }
   ],
   "source": [
    "log_probs = cnn(example_image).permute((2,0,1))[:,0,:]\n",
    "#preds_to_integer(log_probs)\n",
    "\"\".join([ds.decode_dict[j] for j in preds_to_integer(log_probs)])"
   ]
  },
  {
   "cell_type": "code",
   "execution_count": null,
   "metadata": {
    "collapsed": true
   },
   "outputs": [],
   "source": []
  },
  {
   "cell_type": "code",
   "execution_count": null,
   "metadata": {
    "collapsed": true
   },
   "outputs": [],
   "source": []
  }
 ],
 "metadata": {
  "kernelspec": {
   "display_name": "Python (pytorchenv)",
   "language": "python",
   "name": "pytorch"
  },
  "language_info": {
   "codemirror_mode": {
    "name": "ipython",
    "version": 3
   },
   "file_extension": ".py",
   "mimetype": "text/x-python",
   "name": "python",
   "nbconvert_exporter": "python",
   "pygments_lexer": "ipython3",
   "version": "3.6.3"
  }
 },
 "nbformat": 4,
 "nbformat_minor": 2
}
